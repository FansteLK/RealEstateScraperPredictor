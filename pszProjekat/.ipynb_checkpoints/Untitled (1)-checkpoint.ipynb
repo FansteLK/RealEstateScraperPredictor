{
 "cells": [
  {
   "cell_type": "code",
   "execution_count": 2,
   "id": "799601e3",
   "metadata": {
    "scrolled": true
   },
   "outputs": [],
   "source": [
    "import pandas as pd\n",
    "import numpy as np\n",
    "from sklearn.preprocessing import MinMaxScaler\n",
    "from sklearn.linear_model import LinearRegression"
   ]
  },
  {
   "cell_type": "code",
   "execution_count": 3,
   "id": "b085a219",
   "metadata": {},
   "outputs": [],
   "source": [
    "df = pd.read_csv('Linearna-regresija.csv')"
   ]
  },
  {
   "cell_type": "code",
   "execution_count": 4,
   "id": "dd3acf04",
   "metadata": {},
   "outputs": [
    {
     "data": {
      "text/html": [
       "<div>\n",
       "<style scoped>\n",
       "    .dataframe tbody tr th:only-of-type {\n",
       "        vertical-align: middle;\n",
       "    }\n",
       "\n",
       "    .dataframe tbody tr th {\n",
       "        vertical-align: top;\n",
       "    }\n",
       "\n",
       "    .dataframe thead th {\n",
       "        text-align: right;\n",
       "    }\n",
       "</style>\n",
       "<table border=\"1\" class=\"dataframe\">\n",
       "  <thead>\n",
       "    <tr style=\"text-align: right;\">\n",
       "      <th></th>\n",
       "      <th>Unnamed: 0</th>\n",
       "      <th>Cena</th>\n",
       "      <th>Kvadratura</th>\n",
       "      <th>Sprat</th>\n",
       "      <th>Uknjizeno</th>\n",
       "      <th>Parking</th>\n",
       "      <th>Lift</th>\n",
       "      <th>Distance</th>\n",
       "    </tr>\n",
       "  </thead>\n",
       "  <tbody>\n",
       "    <tr>\n",
       "      <th>0</th>\n",
       "      <td>0</td>\n",
       "      <td>68000</td>\n",
       "      <td>0.148760</td>\n",
       "      <td>0.081081</td>\n",
       "      <td>1</td>\n",
       "      <td>1</td>\n",
       "      <td>1</td>\n",
       "      <td>0.031067</td>\n",
       "    </tr>\n",
       "    <tr>\n",
       "      <th>1</th>\n",
       "      <td>1</td>\n",
       "      <td>115000</td>\n",
       "      <td>0.330579</td>\n",
       "      <td>0.027027</td>\n",
       "      <td>1</td>\n",
       "      <td>0</td>\n",
       "      <td>0</td>\n",
       "      <td>0.044965</td>\n",
       "    </tr>\n",
       "    <tr>\n",
       "      <th>2</th>\n",
       "      <td>5</td>\n",
       "      <td>199000</td>\n",
       "      <td>0.450413</td>\n",
       "      <td>0.108108</td>\n",
       "      <td>1</td>\n",
       "      <td>0</td>\n",
       "      <td>0</td>\n",
       "      <td>0.010578</td>\n",
       "    </tr>\n",
       "    <tr>\n",
       "      <th>3</th>\n",
       "      <td>6</td>\n",
       "      <td>69657</td>\n",
       "      <td>0.136364</td>\n",
       "      <td>0.027027</td>\n",
       "      <td>1</td>\n",
       "      <td>0</td>\n",
       "      <td>1</td>\n",
       "      <td>0.016911</td>\n",
       "    </tr>\n",
       "    <tr>\n",
       "      <th>4</th>\n",
       "      <td>7</td>\n",
       "      <td>69657</td>\n",
       "      <td>0.136364</td>\n",
       "      <td>0.027027</td>\n",
       "      <td>1</td>\n",
       "      <td>0</td>\n",
       "      <td>1</td>\n",
       "      <td>0.016911</td>\n",
       "    </tr>\n",
       "  </tbody>\n",
       "</table>\n",
       "</div>"
      ],
      "text/plain": [
       "   Unnamed: 0    Cena  Kvadratura     Sprat  Uknjizeno  Parking  Lift  \\\n",
       "0           0   68000    0.148760  0.081081          1        1     1   \n",
       "1           1  115000    0.330579  0.027027          1        0     0   \n",
       "2           5  199000    0.450413  0.108108          1        0     0   \n",
       "3           6   69657    0.136364  0.027027          1        0     1   \n",
       "4           7   69657    0.136364  0.027027          1        0     1   \n",
       "\n",
       "   Distance  \n",
       "0  0.031067  \n",
       "1  0.044965  \n",
       "2  0.010578  \n",
       "3  0.016911  \n",
       "4  0.016911  "
      ]
     },
     "execution_count": 4,
     "metadata": {},
     "output_type": "execute_result"
    }
   ],
   "source": [
    "df.head()"
   ]
  },
  {
   "cell_type": "code",
   "execution_count": 5,
   "id": "7f0c622d",
   "metadata": {},
   "outputs": [],
   "source": [
    "# w = np.random.uniform(low=0.0, high=1.0, size=(7,1))"
   ]
  },
  {
   "cell_type": "code",
   "execution_count": 6,
   "id": "69c653ba",
   "metadata": {},
   "outputs": [
    {
     "data": {
      "text/plain": [
       "(3009, 8)"
      ]
     },
     "execution_count": 6,
     "metadata": {},
     "output_type": "execute_result"
    }
   ],
   "source": [
    "df.values.shape"
   ]
  },
  {
   "cell_type": "code",
   "execution_count": 7,
   "id": "2ef81a5d",
   "metadata": {},
   "outputs": [],
   "source": [
    "X = df.values[:, 2:]\n",
    "y = df.values[:, 1].reshape(-1, 1)\n",
    "\n",
    "# scaler = MinMaxScaler()\n",
    "# model = scaler.fit(y)\n",
    "# y_scaled = model.transform(y)"
   ]
  },
  {
   "cell_type": "code",
   "execution_count": 8,
   "id": "51a13715",
   "metadata": {},
   "outputs": [
    {
     "data": {
      "text/plain": [
       "array([[ 8.25352068e+05,  2.46912946e+05, -1.85370444e+04,\n",
       "        -3.81538211e+02,  3.15668443e+04, -9.03502604e+03]])"
      ]
     },
     "execution_count": 8,
     "metadata": {},
     "output_type": "execute_result"
    }
   ],
   "source": [
    "reg = LinearRegression().fit(X, y)\n",
    "reg.coef_"
   ]
  },
  {
   "cell_type": "code",
   "execution_count": 9,
   "id": "51e654b6",
   "metadata": {},
   "outputs": [
    {
     "data": {
      "text/plain": [
       "(3009, 7)"
      ]
     },
     "execution_count": 9,
     "metadata": {},
     "output_type": "execute_result"
    }
   ],
   "source": [
    "X = np.concatenate((np.ones((X.shape[0], 1)), X), axis = 1)\n",
    "X.shape"
   ]
  },
  {
   "cell_type": "code",
   "execution_count": 10,
   "id": "ac04445f",
   "metadata": {},
   "outputs": [
    {
     "data": {
      "text/plain": [
       "array([[ 0.00000000e+00,  8.25352068e+05,  2.46912946e+05,\n",
       "        -1.85370444e+04, -3.81538211e+02,  3.15668443e+04,\n",
       "        -9.03502604e+03]])"
      ]
     },
     "execution_count": 10,
     "metadata": {},
     "output_type": "execute_result"
    }
   ],
   "source": [
    "reg = LinearRegression().fit(X, y)\n",
    "reg.coef_"
   ]
  },
  {
   "cell_type": "code",
   "execution_count": 11,
   "id": "bc5533b0",
   "metadata": {
    "scrolled": false
   },
   "outputs": [
    {
     "name": "stdout",
     "output_type": "stream",
     "text": [
      "34856930209.86175\n",
      "25112178206.78046\n",
      "25025400608.420788\n",
      "24925958654.169292\n",
      "24967965881.20417\n",
      "24855544759.181305\n",
      "24843246037.14131\n",
      "24787385700.803844\n",
      "24610100060.216404\n",
      "24577474362.892498\n",
      "24390602933.037804\n",
      "25116346143.254353\n",
      "24905765066.69332\n",
      "24938797774.323944\n",
      "24785064200.47105\n",
      "24915426597.716805\n",
      "25046301443.188633\n",
      "25973105668.91467\n",
      "25069664814.655743\n",
      "30687431245.586487\n",
      "25051828938.722477\n",
      "24142377130.302002\n",
      "23982315917.237633\n",
      "24109939816.777077\n",
      "23720987780.785515\n",
      "24443424688.020676\n",
      "24863799698.561657\n",
      "24001880089.342396\n",
      "24739747595.738266\n",
      "23793872508.937614\n",
      "37440656204.00073\n",
      "25020682163.698727\n",
      "24584087669.98634\n",
      "25240093965.134098\n",
      "25396280054.76147\n",
      "25870123723.1508\n",
      "25376457579.95258\n",
      "24536844146.12017\n",
      "24141252221.633945\n",
      "24153537323.933693\n",
      "24070177873.4741\n",
      "23980009302.342655\n",
      "25423307295.024364\n",
      "22740542341.80746\n",
      "22270003386.523224\n",
      "22364475322.0673\n",
      "22006962372.364223\n",
      "22326964627.633163\n",
      "22403240413.91227\n",
      "21924012502.25446\n",
      "21952101091.34458\n",
      "21987208037.604355\n",
      "22087449296.3861\n",
      "22109622744.210712\n",
      "21773165599.90214\n",
      "22228363437.00893\n",
      "22366921125.544754\n",
      "23294351106.464653\n",
      "21142257717.00798\n",
      "21317030916.410683\n",
      "21970741427.42248\n",
      "21549343512.01498\n",
      "21295556706.554245\n",
      "22795065664.63968\n",
      "21364136859.501553\n",
      "20976840901.328114\n",
      "20968561567.768875\n",
      "21867486313.00686\n",
      "20365622282.587967\n",
      "20608774925.449722\n",
      "20510212781.486473\n",
      "20452192573.970604\n",
      "72 da\n",
      "20432555340.450096\n"
     ]
    }
   ],
   "source": [
    "batch_size = X.shape[0]//4\n",
    "learning_rate = 0.1\n",
    "stop = False\n",
    "k = 0\n",
    "\n",
    "w = np.zeros((7,1), dtype='float')\n",
    "while(not stop):\n",
    "    index = np.arange(X.shape[0])\n",
    "    np.random.shuffle(index)\n",
    "    X = X[index]\n",
    "    y = y[index]\n",
    "    for i in range(0, X.shape[0], batch_size):\n",
    "        w_old = w.copy()\n",
    "        X_batch = X[i:i+batch_size]\n",
    "        y_batch = y[i:i+batch_size]\n",
    "\n",
    "        y_pred = (X_batch @ w)\n",
    "        batch_loss = y_pred-y_batch\n",
    "        for i in range(w.shape[0]):\n",
    "            w[i] = w[i] - learning_rate*np.mean(batch_loss*X_batch[:, i])\n",
    "#         delta_w = (X_batch.T @ (y_pred - y_batch))/X_batch.shape[0]\n",
    "#         w = w - learning_rate*delta_w\n",
    "        if(abs(w_old-w)<20).all():\n",
    "            print(k, 'da')\n",
    "            stop = True\n",
    "            break\n",
    "    \n",
    "    k+=1\n",
    "    y_pred = X @ w\n",
    "    print(np.mean((y_pred-y)**2))\n",
    "#     print(w)\n",
    "#         if k>39:\n",
    "#             print(delta_w)\n",
    "#         if (abs(delta_w)<0.008).all():\n",
    "#             print(k)\n",
    "#             stop = True\n",
    "#             break"
   ]
  },
  {
   "cell_type": "code",
   "execution_count": 12,
   "id": "532c9a46",
   "metadata": {
    "scrolled": true
   },
   "outputs": [
    {
     "name": "stdout",
     "output_type": "stream",
     "text": [
      "[[132385.62362461]\n",
      " [137703.60142165]\n",
      " [ 16270.07065582]\n",
      " [  8761.81533694]\n",
      " [   186.62687688]\n",
      " [ 46336.08559137]\n",
      " [ -2217.5504341 ]]\n",
      "208718.57793286807\n"
     ]
    }
   ],
   "source": [
    "print(w)\n",
    "print(y.mean())"
   ]
  },
  {
   "cell_type": "code",
   "execution_count": 13,
   "id": "9e93ab60",
   "metadata": {
    "scrolled": false
   },
   "outputs": [
    {
     "data": {
      "application/vnd.jupyter.widget-view+json": {
       "model_id": "54128f1628a04fb7bbfe2efe2fbab61d",
       "version_major": 2,
       "version_minor": 0
      },
      "text/plain": [
       "FloatText(value=0.0, description='Kvadratura:')"
      ]
     },
     "metadata": {},
     "output_type": "display_data"
    },
    {
     "data": {
      "application/vnd.jupyter.widget-view+json": {
       "model_id": "bb21d3dbc34d4ff39e32ae64541bb02f",
       "version_major": 2,
       "version_minor": 0
      },
      "text/plain": [
       "FloatText(value=0.0, description='Udaljenost od centra:')"
      ]
     },
     "metadata": {},
     "output_type": "display_data"
    },
    {
     "data": {
      "application/vnd.jupyter.widget-view+json": {
       "model_id": "6bb4d1d59e144b5280a6e1ae451eafe4",
       "version_major": 2,
       "version_minor": 0
      },
      "text/plain": [
       "FloatText(value=0.0, description='Sprat:')"
      ]
     },
     "metadata": {},
     "output_type": "display_data"
    },
    {
     "data": {
      "application/vnd.jupyter.widget-view+json": {
       "model_id": "a227e945054d4ff697e7dbe4d0995114",
       "version_major": 2,
       "version_minor": 0
      },
      "text/plain": [
       "Checkbox(value=False, description='Uknjizeno:')"
      ]
     },
     "metadata": {},
     "output_type": "display_data"
    },
    {
     "data": {
      "application/vnd.jupyter.widget-view+json": {
       "model_id": "d096228f657349f2a230a7c3c02e56f0",
       "version_major": 2,
       "version_minor": 0
      },
      "text/plain": [
       "Checkbox(value=False, description='Parking:')"
      ]
     },
     "metadata": {},
     "output_type": "display_data"
    },
    {
     "data": {
      "application/vnd.jupyter.widget-view+json": {
       "model_id": "00d0aa831f924d0d9ecb178d890215a5",
       "version_major": 2,
       "version_minor": 0
      },
      "text/plain": [
       "Checkbox(value=False, description='Lift:')"
      ]
     },
     "metadata": {},
     "output_type": "display_data"
    },
    {
     "data": {
      "application/vnd.jupyter.widget-view+json": {
       "model_id": "1f11712496ec43eb8738b9567baea92a",
       "version_major": 2,
       "version_minor": 0
      },
      "text/plain": [
       "Button(description='Run Regression', style=ButtonStyle())"
      ]
     },
     "metadata": {},
     "output_type": "display_data"
    },
    {
     "name": "stdout",
     "output_type": "stream",
     "text": [
      "50.0 0.0 0.0 0 0 0\n",
      "[7017565.69470691]\n"
     ]
    }
   ],
   "source": [
    "##LINEARNA REGRESIJA\n",
    "import ipywidgets as widgets\n",
    "from IPython.display import display\n",
    "\n",
    "\n",
    "# Create input widgets\n",
    "\n",
    "inputKvadratura = widgets.FloatText(description='Kvadratura:')\n",
    "inputSprat = widgets.FloatText(description='Sprat:')\n",
    "inputDistance = widgets.FloatText(description='Udaljenost od centra:')\n",
    "inputUknjizenost = widgets.Checkbox(description='Uknjizeno:')\n",
    "inputParking = widgets.Checkbox(description='Parking:')\n",
    "inputLift = widgets.Checkbox(description='Lift:')\n",
    "\n",
    "button = widgets.Button(description='Run Regression')\n",
    "\n",
    "# Define a function to handle button click event\n",
    "def on_button_click(b):\n",
    "    # Retrieve attribute values\n",
    "    kvadratura = inputKvadratura.value\n",
    "    sprat=inputSprat.value\n",
    "    distance=inputDistance.value\n",
    "    boolParking = inputParking.value\n",
    "    parking=0\n",
    "    if boolParking:parking=1\n",
    "    boolLift=inputLift.value\n",
    "    lift=0\n",
    "    if boolLift:lift=1\n",
    "    uknjizenost=0\n",
    "    boolUknjizenost=inputUknjizenost.value\n",
    "    if boolUknjizenost: uknjizenost=1\n",
    "    print(str(kvadratura)+\" \"+str(distance)+\" \"+str(sprat)+\" \"+str(uknjizenost)+\" \"+ str(parking)+\" \"+str(lift))\n",
    "    matricaAtributa=np.array([])\n",
    "    matricaAtributa =np.append(matricaAtributa,[1,kvadratura,sprat,uknjizenost,parking,lift,distance])\n",
    "    print(matricaAtributa@w)\n",
    "#     # Perform linear regression\n",
    "#     X = [[attr1], [attr2]]  # Features matrix\n",
    "#     y = [2, 4]              # Target values\n",
    "    \n",
    "#     model = LinearRegression()\n",
    "#     model.fit(X, y)\n",
    "    \n",
    "#     # Display regression results\n",
    "#     print(\"Intercept:\", model.intercept_)\n",
    "#     print(\"Coefficients:\", model.coef_)\n",
    "\n",
    "# Assign the function to the button's on_click event\n",
    "button.on_click(on_button_click)\n",
    "\n",
    "# Display the widgets\n",
    "display(inputKvadratura,inputDistance,inputSprat,inputUknjizenost,inputParking,inputLift, button)"
   ]
  },
  {
   "cell_type": "code",
   "execution_count": null,
   "id": "d726a3ca",
   "metadata": {},
   "outputs": [],
   "source": []
  }
 ],
 "metadata": {
  "kernelspec": {
   "display_name": "Python 3 (ipykernel)",
   "language": "python",
   "name": "python3"
  },
  "language_info": {
   "codemirror_mode": {
    "name": "ipython",
    "version": 3
   },
   "file_extension": ".py",
   "mimetype": "text/x-python",
   "name": "python",
   "nbconvert_exporter": "python",
   "pygments_lexer": "ipython3",
   "version": "3.9.13"
  }
 },
 "nbformat": 4,
 "nbformat_minor": 5
}
