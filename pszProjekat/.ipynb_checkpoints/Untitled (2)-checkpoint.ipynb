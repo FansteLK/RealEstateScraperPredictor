{
 "cells": [
  {
   "cell_type": "code",
   "execution_count": 1,
   "id": "799601e3",
   "metadata": {
    "scrolled": false
   },
   "outputs": [],
   "source": [
    "import pandas as pd\n",
    "import numpy as np\n",
    "from sklearn.preprocessing import StandardScaler\n",
    "from sklearn.linear_model import LinearRegression"
   ]
  },
  {
   "cell_type": "code",
   "execution_count": 20,
   "id": "b085a219",
   "metadata": {},
   "outputs": [],
   "source": [
    "df = pd.read_csv('Linearna-regresija.csv')"
   ]
  },
  {
   "cell_type": "code",
   "execution_count": 21,
   "id": "dd3acf04",
   "metadata": {},
   "outputs": [
    {
     "data": {
      "text/html": [
       "<div>\n",
       "<style scoped>\n",
       "    .dataframe tbody tr th:only-of-type {\n",
       "        vertical-align: middle;\n",
       "    }\n",
       "\n",
       "    .dataframe tbody tr th {\n",
       "        vertical-align: top;\n",
       "    }\n",
       "\n",
       "    .dataframe thead th {\n",
       "        text-align: right;\n",
       "    }\n",
       "</style>\n",
       "<table border=\"1\" class=\"dataframe\">\n",
       "  <thead>\n",
       "    <tr style=\"text-align: right;\">\n",
       "      <th></th>\n",
       "      <th>Unnamed: 0</th>\n",
       "      <th>Cena</th>\n",
       "      <th>Kvadratura</th>\n",
       "      <th>Sprat</th>\n",
       "      <th>Uknjizeno</th>\n",
       "      <th>Parking</th>\n",
       "      <th>Lift</th>\n",
       "      <th>Distance</th>\n",
       "    </tr>\n",
       "  </thead>\n",
       "  <tbody>\n",
       "    <tr>\n",
       "      <th>0</th>\n",
       "      <td>0</td>\n",
       "      <td>68000</td>\n",
       "      <td>0.148760</td>\n",
       "      <td>0.081081</td>\n",
       "      <td>1</td>\n",
       "      <td>1</td>\n",
       "      <td>1</td>\n",
       "      <td>0.031067</td>\n",
       "    </tr>\n",
       "    <tr>\n",
       "      <th>1</th>\n",
       "      <td>1</td>\n",
       "      <td>115000</td>\n",
       "      <td>0.330579</td>\n",
       "      <td>0.027027</td>\n",
       "      <td>1</td>\n",
       "      <td>0</td>\n",
       "      <td>0</td>\n",
       "      <td>0.044965</td>\n",
       "    </tr>\n",
       "    <tr>\n",
       "      <th>2</th>\n",
       "      <td>5</td>\n",
       "      <td>199000</td>\n",
       "      <td>0.450413</td>\n",
       "      <td>0.108108</td>\n",
       "      <td>1</td>\n",
       "      <td>0</td>\n",
       "      <td>0</td>\n",
       "      <td>0.010578</td>\n",
       "    </tr>\n",
       "    <tr>\n",
       "      <th>3</th>\n",
       "      <td>6</td>\n",
       "      <td>69657</td>\n",
       "      <td>0.136364</td>\n",
       "      <td>0.027027</td>\n",
       "      <td>1</td>\n",
       "      <td>0</td>\n",
       "      <td>1</td>\n",
       "      <td>0.016911</td>\n",
       "    </tr>\n",
       "    <tr>\n",
       "      <th>4</th>\n",
       "      <td>7</td>\n",
       "      <td>69657</td>\n",
       "      <td>0.136364</td>\n",
       "      <td>0.027027</td>\n",
       "      <td>1</td>\n",
       "      <td>0</td>\n",
       "      <td>1</td>\n",
       "      <td>0.016911</td>\n",
       "    </tr>\n",
       "  </tbody>\n",
       "</table>\n",
       "</div>"
      ],
      "text/plain": [
       "   Unnamed: 0    Cena  Kvadratura     Sprat  Uknjizeno  Parking  Lift  \\\n",
       "0           0   68000    0.148760  0.081081          1        1     1   \n",
       "1           1  115000    0.330579  0.027027          1        0     0   \n",
       "2           5  199000    0.450413  0.108108          1        0     0   \n",
       "3           6   69657    0.136364  0.027027          1        0     1   \n",
       "4           7   69657    0.136364  0.027027          1        0     1   \n",
       "\n",
       "   Distance  \n",
       "0  0.031067  \n",
       "1  0.044965  \n",
       "2  0.010578  \n",
       "3  0.016911  \n",
       "4  0.016911  "
      ]
     },
     "execution_count": 21,
     "metadata": {},
     "output_type": "execute_result"
    }
   ],
   "source": [
    "df.head()"
   ]
  },
  {
   "cell_type": "code",
   "execution_count": 4,
   "id": "7f0c622d",
   "metadata": {},
   "outputs": [],
   "source": [
    "# w = np.random.uniform(low=0.0, high=1.0, size=(7,1))"
   ]
  },
  {
   "cell_type": "code",
   "execution_count": 22,
   "id": "69c653ba",
   "metadata": {},
   "outputs": [
    {
     "data": {
      "text/plain": [
       "(3009, 8)"
      ]
     },
     "execution_count": 22,
     "metadata": {},
     "output_type": "execute_result"
    }
   ],
   "source": [
    "df.values.shape"
   ]
  },
  {
   "cell_type": "code",
   "execution_count": 23,
   "id": "2ef81a5d",
   "metadata": {},
   "outputs": [],
   "source": [
    "X = df.values[:, 2:]\n",
    "y = df.values[:, 1].reshape(-1, 1)\n",
    "\n",
    "scaler = StandardScaler()\n",
    "# model = scaler.fit(X)\n",
    "X = scaler.fit_transform(X)"
   ]
  },
  {
   "cell_type": "code",
   "execution_count": null,
   "id": "c6341e1b",
   "metadata": {},
   "outputs": [],
   "source": []
  },
  {
   "cell_type": "code",
   "execution_count": 6,
   "id": "ca467a45",
   "metadata": {},
   "outputs": [
    {
     "name": "stdout",
     "output_type": "stream",
     "text": [
      "[[121199.87016008  21423.03493635  -9213.62884804   -145.4500123\n",
      "   15728.41341668  -1302.07778126]] [208718.57793287]\n"
     ]
    }
   ],
   "source": [
    "reg = LinearRegression().fit(X, y)\n",
    "print(reg.coef_, reg.intercept_)"
   ]
  },
  {
   "cell_type": "code",
   "execution_count": 18,
   "id": "51e654b6",
   "metadata": {},
   "outputs": [
    {
     "name": "stdout",
     "output_type": "stream",
     "text": [
      "(3009, 7)\n"
     ]
    }
   ],
   "source": [
    "X = np.concatenate((np.ones((X.shape[0],1)),X), axis=1)\n",
    "print(X.shape)"
   ]
  },
  {
   "cell_type": "code",
   "execution_count": null,
   "id": "aa97e969",
   "metadata": {},
   "outputs": [],
   "source": []
  },
  {
   "cell_type": "code",
   "execution_count": 19,
   "id": "3a6c38dc",
   "metadata": {},
   "outputs": [
    {
     "name": "stdout",
     "output_type": "stream",
     "text": [
      "[[     0.         121199.87016008  21423.03493635  -9213.62884804\n",
      "    -145.4500123   15728.41341668  -1302.07778126]] [208718.57793287]\n"
     ]
    }
   ],
   "source": [
    "reg = LinearRegression().fit(X, y)\n",
    "print(reg.coef_, reg.intercept_)"
   ]
  },
  {
   "cell_type": "code",
   "execution_count": 9,
   "id": "bc5533b0",
   "metadata": {
    "scrolled": true
   },
   "outputs": [
    {
     "ename": "ValueError",
     "evalue": "matmul: Input operand 1 has a mismatch in its core dimension 0, with gufunc signature (n?,k),(k,m?)->(n?,m?) (size 4 is different from 6)",
     "output_type": "error",
     "traceback": [
      "\u001b[1;31m---------------------------------------------------------------------------\u001b[0m",
      "\u001b[1;31mValueError\u001b[0m                                Traceback (most recent call last)",
      "\u001b[1;32m~\\AppData\\Local\\Temp\\ipykernel_4364\\1082319873.py\u001b[0m in \u001b[0;36m<module>\u001b[1;34m\u001b[0m\n\u001b[0;32m     15\u001b[0m         \u001b[0my_batch\u001b[0m \u001b[1;33m=\u001b[0m \u001b[0my\u001b[0m\u001b[1;33m[\u001b[0m\u001b[0mi\u001b[0m\u001b[1;33m:\u001b[0m\u001b[0mi\u001b[0m\u001b[1;33m+\u001b[0m\u001b[0mbatch_size\u001b[0m\u001b[1;33m]\u001b[0m\u001b[1;33m\u001b[0m\u001b[1;33m\u001b[0m\u001b[0m\n\u001b[0;32m     16\u001b[0m \u001b[1;33m\u001b[0m\u001b[0m\n\u001b[1;32m---> 17\u001b[1;33m         \u001b[0my_pred\u001b[0m \u001b[1;33m=\u001b[0m \u001b[1;33m(\u001b[0m\u001b[0mX_batch\u001b[0m \u001b[1;33m@\u001b[0m \u001b[0mw\u001b[0m\u001b[1;33m)\u001b[0m\u001b[1;33m\u001b[0m\u001b[1;33m\u001b[0m\u001b[0m\n\u001b[0m\u001b[0;32m     18\u001b[0m         \u001b[0mbatch_loss\u001b[0m \u001b[1;33m=\u001b[0m \u001b[0my_pred\u001b[0m\u001b[1;33m-\u001b[0m\u001b[0my_batch\u001b[0m\u001b[1;33m\u001b[0m\u001b[1;33m\u001b[0m\u001b[0m\n\u001b[0;32m     19\u001b[0m \u001b[1;31m#         print(sum(batch_loss))\u001b[0m\u001b[1;33m\u001b[0m\u001b[1;33m\u001b[0m\u001b[0m\n",
      "\u001b[1;31mValueError\u001b[0m: matmul: Input operand 1 has a mismatch in its core dimension 0, with gufunc signature (n?,k),(k,m?)->(n?,m?) (size 4 is different from 6)"
     ]
    }
   ],
   "source": [
    "batch_size = 200#X.shape[0]//10\n",
    "learning_rate = 0.01\n",
    "stop = False\n",
    "k = 0\n",
    "\n",
    "w = np.zeros((4,1), dtype='float')\n",
    "while(not stop):\n",
    "    index = np.arange(X.shape[0])\n",
    "    np.random.shuffle(index)\n",
    "    X = X[index]\n",
    "    y = y[index]\n",
    "    for i in range(0, X.shape[0], batch_size):\n",
    "        w_old = w.copy()\n",
    "        X_batch = X[i:i+batch_size]\n",
    "        y_batch = y[i:i+batch_size]\n",
    "\n",
    "        y_pred = (X_batch @ w)\n",
    "        batch_loss = y_pred-y_batch\n",
    "#         print(sum(batch_loss))\n",
    "        for j in range(w.shape[0]):\n",
    "            w[j] = w[j] - learning_rate*np.mean(batch_loss*X_batch[:, j])\n",
    "#             if j==3 and k%10==0:\n",
    "#                 print(learning_rate*np.mean(batch_loss*X_batch[:, j]))\n",
    "#         delta_w = (X_batch.T @ (y_pred - y_batch))/X_batch.shape[0]\n",
    "#         w = w - learning_rate*delta_w\n",
    "#         if(abs(w_old-w)<1).all():\n",
    "#             print(k, 'da')\n",
    "#             stop = True\n",
    "#             break\n",
    "    \n",
    "    k+=1\n",
    "    y_pred = X @ w\n",
    "    if k%20==0: print(np.mean((y_pred-y)**2))\n",
    "    if np.mean((y_pred-y)**2)<10400000000:\n",
    "        stop = True\n",
    "        break"
   ]
  },
  {
   "cell_type": "code",
   "execution_count": 10,
   "id": "532c9a46",
   "metadata": {
    "scrolled": true
   },
   "outputs": [
    {
     "name": "stdout",
     "output_type": "stream",
     "text": [
      "[[0.]\n",
      " [0.]\n",
      " [0.]\n",
      " [0.]]\n",
      "[[121199.87016008  21423.03493635  -9213.62884804   -145.4500123\n",
      "   15728.41341668  -1302.07778126]] [208718.57793287]\n"
     ]
    }
   ],
   "source": [
    "print(w)\n",
    "print(reg.coef_, reg.intercept_)"
   ]
  },
  {
   "cell_type": "code",
   "execution_count": 63,
   "id": "0bd5bd33",
   "metadata": {
    "scrolled": false
   },
   "outputs": [
    {
     "data": {
      "application/vnd.jupyter.widget-view+json": {
       "model_id": "f5466355bbf44b5ebea7de175b684cc3",
       "version_major": 2,
       "version_minor": 0
      },
      "text/plain": [
       "FloatText(value=0.0, description='Kvadratura:')"
      ]
     },
     "metadata": {},
     "output_type": "display_data"
    },
    {
     "data": {
      "application/vnd.jupyter.widget-view+json": {
       "model_id": "6f31294f32be442997f89a19fe84b843",
       "version_major": 2,
       "version_minor": 0
      },
      "text/plain": [
       "FloatText(value=0.0, description='Udaljenost od centra:')"
      ]
     },
     "metadata": {},
     "output_type": "display_data"
    },
    {
     "data": {
      "application/vnd.jupyter.widget-view+json": {
       "model_id": "8febeda1793b446d94317af9de9bfa83",
       "version_major": 2,
       "version_minor": 0
      },
      "text/plain": [
       "FloatText(value=0.0, description='Sprat:')"
      ]
     },
     "metadata": {},
     "output_type": "display_data"
    },
    {
     "data": {
      "application/vnd.jupyter.widget-view+json": {
       "model_id": "1592b8e49049480480ccac30b302b2b5",
       "version_major": 2,
       "version_minor": 0
      },
      "text/plain": [
       "Checkbox(value=False, description='Uknjizeno:')"
      ]
     },
     "metadata": {},
     "output_type": "display_data"
    },
    {
     "data": {
      "application/vnd.jupyter.widget-view+json": {
       "model_id": "4ed1120092ee4ee8875061d381721f14",
       "version_major": 2,
       "version_minor": 0
      },
      "text/plain": [
       "Checkbox(value=False, description='Parking:')"
      ]
     },
     "metadata": {},
     "output_type": "display_data"
    },
    {
     "data": {
      "application/vnd.jupyter.widget-view+json": {
       "model_id": "be7840f822d6427b815dc02c6b863aaa",
       "version_major": 2,
       "version_minor": 0
      },
      "text/plain": [
       "Checkbox(value=False, description='Lift:')"
      ]
     },
     "metadata": {},
     "output_type": "display_data"
    },
    {
     "data": {
      "application/vnd.jupyter.widget-view+json": {
       "model_id": "c55c03a6957549018ef745238a000249",
       "version_major": 2,
       "version_minor": 0
      },
      "text/plain": [
       "Button(description='Run Regression', style=ButtonStyle())"
      ]
     },
     "metadata": {},
     "output_type": "display_data"
    }
   ],
   "source": [
    "##LINEARNA REGRESIJA\n",
    "import ipywidgets as widgets\n",
    "from IPython.display import display\n",
    "\n",
    "\n",
    "# Create input widgets\n",
    "\n",
    "inputKvadratura = widgets.FloatText(description='Kvadratura:')\n",
    "inputSprat = widgets.FloatText(description='Sprat:')\n",
    "inputDistance = widgets.FloatText(description='Udaljenost od centra:')\n",
    "inputUknjizenost = widgets.Checkbox(description='Uknjizeno:')\n",
    "inputParking = widgets.Checkbox(description='Parking:')\n",
    "inputLift = widgets.Checkbox(description='Lift:')\n",
    "\n",
    "button = widgets.Button(description='Run Regression')\n",
    "\n",
    "# Define a function to handle button click event\n",
    "def on_button_click(b):\n",
    "    # Retrieve attribute values\n",
    "    kvadratura = inputKvadratura.value\n",
    "    sprat=inputSprat.value\n",
    "    distance=inputDistance.value\n",
    "    boolParking = inputParking.value\n",
    "    parking=0\n",
    "    if boolParking:parking=1\n",
    "    boolLift=inputLift.value\n",
    "    lift=0\n",
    "    if boolLift:lift=1\n",
    "    uknjizenost=0\n",
    "    boolUknjizenost=inputUknjizenost.value\n",
    "    if boolUknjizenost: uknjizenost=1\n",
    "    print(str(kvadratura)+\" \"+str(distance)+\" \"+str(sprat)+\" \"+str(uknjizenost)+\" \"+ str(parking)+\" \"+str(lift))\n",
    "    matricaAtributa=np.array([])\n",
    "    matricaAtributa =np.append(matricaAtributa,[1,kvadratura,sprat,uknjizenost,parking,lift,distance])\n",
    "    print(matricaAtributa@w)\n",
    "#     # Perform linear regression\n",
    "#     X = [[attr1], [attr2]]  # Features matrix\n",
    "#     y = [2, 4]              # Target values\n",
    "    \n",
    "#     model = LinearRegression()\n",
    "#     model.fit(X, y)\n",
    "    \n",
    "#     # Display regression results\n",
    "#     print(\"Intercept:\", model.intercept_)\n",
    "#     print(\"Coefficients:\", model.coef_)\n",
    "\n",
    "# Assign the function to the button's on_click event\n",
    "button.on_click(on_button_click)\n",
    "\n",
    "# Display the widgets\n",
    "display(inputKvadratura,inputDistance,inputSprat,inputUknjizenost,inputParking,inputLift, button)"
   ]
  },
  {
   "cell_type": "code",
   "execution_count": 13,
   "id": "ef78691c",
   "metadata": {},
   "outputs": [],
   "source": [
    "a =np.array([[1,1,2,3,4,5],[10,5,12,20,17,15], [150,148,154,159,152,153]]).T"
   ]
  },
  {
   "cell_type": "code",
   "execution_count": 14,
   "id": "0936b2ac",
   "metadata": {},
   "outputs": [
    {
     "data": {
      "text/plain": [
       "array([[0.        , 0.33333333, 0.18181818],\n",
       "       [0.        , 0.        , 0.        ],\n",
       "       [0.25      , 0.46666667, 0.54545455],\n",
       "       [0.5       , 1.        , 1.        ],\n",
       "       [0.75      , 0.8       , 0.36363636],\n",
       "       [1.        , 0.66666667, 0.45454545]])"
      ]
     },
     "execution_count": 14,
     "metadata": {},
     "output_type": "execute_result"
    }
   ],
   "source": [
    "scaler.fit_transform(a)"
   ]
  },
  {
   "cell_type": "code",
   "execution_count": 15,
   "id": "977f8789",
   "metadata": {},
   "outputs": [
    {
     "data": {
      "text/plain": [
       "array([0.25      , 0.06666667, 0.09090909])"
      ]
     },
     "execution_count": 15,
     "metadata": {},
     "output_type": "execute_result"
    }
   ],
   "source": [
    "scaler.scale_"
   ]
  },
  {
   "cell_type": "code",
   "execution_count": 16,
   "id": "faf03a3e",
   "metadata": {},
   "outputs": [],
   "source": [
    "b = np.array([1,14,152]).reshape(1, -1)"
   ]
  },
  {
   "cell_type": "code",
   "execution_count": 17,
   "id": "ebfce19c",
   "metadata": {},
   "outputs": [
    {
     "data": {
      "text/plain": [
       "array([[0.        , 0.6       , 0.36363636]])"
      ]
     },
     "execution_count": 17,
     "metadata": {},
     "output_type": "execute_result"
    }
   ],
   "source": [
    "scaler.transform(b)"
   ]
  },
  {
   "cell_type": "code",
   "execution_count": null,
   "id": "61e92615",
   "metadata": {},
   "outputs": [],
   "source": []
  },
  {
   "cell_type": "code",
   "execution_count": null,
   "id": "ecd3f209",
   "metadata": {},
   "outputs": [],
   "source": []
  }
 ],
 "metadata": {
  "kernelspec": {
   "display_name": "Python 3 (ipykernel)",
   "language": "python",
   "name": "python3"
  },
  "language_info": {
   "codemirror_mode": {
    "name": "ipython",
    "version": 3
   },
   "file_extension": ".py",
   "mimetype": "text/x-python",
   "name": "python",
   "nbconvert_exporter": "python",
   "pygments_lexer": "ipython3",
   "version": "3.9.13"
  }
 },
 "nbformat": 4,
 "nbformat_minor": 5
}
